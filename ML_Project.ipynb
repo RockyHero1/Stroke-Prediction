{
  "nbformat": 4,
  "nbformat_minor": 0,
  "metadata": {
    "colab": {
      "name": "ML Project.ipynb",
      "provenance": [],
      "collapsed_sections": [],
      "include_colab_link": true
    },
    "kernelspec": {
      "name": "python3",
      "display_name": "Python 3"
    },
    "language_info": {
      "name": "python"
    }
  },
  "cells": [
    {
      "cell_type": "markdown",
      "metadata": {
        "id": "view-in-github",
        "colab_type": "text"
      },
      "source": [
        "<a href=\"https://colab.research.google.com/github/RockyHero1/Stroke-Prediction/blob/main/ML_Project.ipynb\" target=\"_parent\"><img src=\"https://colab.research.google.com/assets/colab-badge.svg\" alt=\"Open In Colab\"/></a>"
      ]
    },
    {
      "cell_type": "code",
      "metadata": {
        "id": "ItVPxH2E3m7m"
      },
      "source": [
        "import pandas as pd\n",
        "import numpy as np\n",
        "import seaborn as sns\n",
        "import matplotlib.pyplot as plt\n",
        "%matplotlib inline\n",
        "\n",
        "from sklearn import preprocessing\n",
        "\n",
        "from imblearn.over_sampling import RandomOverSampler\n",
        "from imblearn.over_sampling import SMOTE\n",
        "from imblearn.under_sampling import NearMiss\n",
        "\n",
        "from sklearn.ensemble import RandomForestClassifier\n",
        "from sklearn.neighbors import KNeighborsClassifier\n",
        "from sklearn.tree import DecisionTreeClassifier\n",
        "from xgboost import XGBClassifier\n",
        "from sklearn.ensemble import GradientBoostingClassifier\n",
        "\n",
        "\n",
        "from sklearn.model_selection import train_test_split\n",
        "from sklearn.model_selection import GridSearchCV\n",
        "\n",
        "from sklearn.metrics import recall_score\n",
        "from sklearn.metrics import precision_score\n",
        "from sklearn.metrics import accuracy_score\n",
        "from sklearn.metrics import confusion_matrix\n",
        "from sklearn.metrics import classification_report\n",
        "from sklearn.metrics import f1_score\n",
        "from sklearn.metrics import roc_curve\n",
        "from sklearn.metrics import roc_auc_score"
      ],
      "execution_count": null,
      "outputs": []
    },
    {
      "cell_type": "code",
      "metadata": {
        "colab": {
          "base_uri": "https://localhost:8080/"
        },
        "id": "kkYU2Pwu-Xlz",
        "outputId": "ce8cbc0e-e4b2-45df-ae20-83c924dc3ef9"
      },
      "source": [
        "from google.colab import drive\n",
        "drive.mount('/content/drive')"
      ],
      "execution_count": null,
      "outputs": [
        {
          "output_type": "stream",
          "name": "stdout",
          "text": [
            "Mounted at /content/drive\n"
          ]
        }
      ]
    },
    {
      "cell_type": "code",
      "metadata": {
        "id": "UN2zbNd4-Yqv"
      },
      "source": [
        "#Importing the dataset\n",
        "data = pd.read_csv('/content/drive/MyDrive/train_strokes.csv')"
      ],
      "execution_count": null,
      "outputs": []
    },
    {
      "cell_type": "code",
      "metadata": {
        "colab": {
          "base_uri": "https://localhost:8080/",
          "height": 206
        },
        "id": "OOKKF0IW-78Y",
        "outputId": "f4697a7d-2685-480e-ff13-09d81c130a2c"
      },
      "source": [
        "data.head()"
      ],
      "execution_count": null,
      "outputs": [
        {
          "output_type": "execute_result",
          "data": {
            "text/html": [
              "<div>\n",
              "<style scoped>\n",
              "    .dataframe tbody tr th:only-of-type {\n",
              "        vertical-align: middle;\n",
              "    }\n",
              "\n",
              "    .dataframe tbody tr th {\n",
              "        vertical-align: top;\n",
              "    }\n",
              "\n",
              "    .dataframe thead th {\n",
              "        text-align: right;\n",
              "    }\n",
              "</style>\n",
              "<table border=\"1\" class=\"dataframe\">\n",
              "  <thead>\n",
              "    <tr style=\"text-align: right;\">\n",
              "      <th></th>\n",
              "      <th>id</th>\n",
              "      <th>gender</th>\n",
              "      <th>age</th>\n",
              "      <th>hypertension</th>\n",
              "      <th>heart_disease</th>\n",
              "      <th>ever_married</th>\n",
              "      <th>work_type</th>\n",
              "      <th>Residence_type</th>\n",
              "      <th>avg_glucose_level</th>\n",
              "      <th>bmi</th>\n",
              "      <th>smoking_status</th>\n",
              "      <th>stroke</th>\n",
              "    </tr>\n",
              "  </thead>\n",
              "  <tbody>\n",
              "    <tr>\n",
              "      <th>0</th>\n",
              "      <td>30669</td>\n",
              "      <td>Male</td>\n",
              "      <td>3.0</td>\n",
              "      <td>0</td>\n",
              "      <td>0</td>\n",
              "      <td>No</td>\n",
              "      <td>children</td>\n",
              "      <td>Rural</td>\n",
              "      <td>95.12</td>\n",
              "      <td>18.0</td>\n",
              "      <td>NaN</td>\n",
              "      <td>0</td>\n",
              "    </tr>\n",
              "    <tr>\n",
              "      <th>1</th>\n",
              "      <td>30468</td>\n",
              "      <td>Male</td>\n",
              "      <td>58.0</td>\n",
              "      <td>1</td>\n",
              "      <td>0</td>\n",
              "      <td>Yes</td>\n",
              "      <td>Private</td>\n",
              "      <td>Urban</td>\n",
              "      <td>87.96</td>\n",
              "      <td>39.2</td>\n",
              "      <td>never smoked</td>\n",
              "      <td>0</td>\n",
              "    </tr>\n",
              "    <tr>\n",
              "      <th>2</th>\n",
              "      <td>16523</td>\n",
              "      <td>Female</td>\n",
              "      <td>8.0</td>\n",
              "      <td>0</td>\n",
              "      <td>0</td>\n",
              "      <td>No</td>\n",
              "      <td>Private</td>\n",
              "      <td>Urban</td>\n",
              "      <td>110.89</td>\n",
              "      <td>17.6</td>\n",
              "      <td>NaN</td>\n",
              "      <td>0</td>\n",
              "    </tr>\n",
              "    <tr>\n",
              "      <th>3</th>\n",
              "      <td>56543</td>\n",
              "      <td>Female</td>\n",
              "      <td>70.0</td>\n",
              "      <td>0</td>\n",
              "      <td>0</td>\n",
              "      <td>Yes</td>\n",
              "      <td>Private</td>\n",
              "      <td>Rural</td>\n",
              "      <td>69.04</td>\n",
              "      <td>35.9</td>\n",
              "      <td>formerly smoked</td>\n",
              "      <td>0</td>\n",
              "    </tr>\n",
              "    <tr>\n",
              "      <th>4</th>\n",
              "      <td>46136</td>\n",
              "      <td>Male</td>\n",
              "      <td>14.0</td>\n",
              "      <td>0</td>\n",
              "      <td>0</td>\n",
              "      <td>No</td>\n",
              "      <td>Never_worked</td>\n",
              "      <td>Rural</td>\n",
              "      <td>161.28</td>\n",
              "      <td>19.1</td>\n",
              "      <td>NaN</td>\n",
              "      <td>0</td>\n",
              "    </tr>\n",
              "  </tbody>\n",
              "</table>\n",
              "</div>"
            ],
            "text/plain": [
              "      id  gender   age  ...   bmi   smoking_status stroke\n",
              "0  30669    Male   3.0  ...  18.0              NaN      0\n",
              "1  30468    Male  58.0  ...  39.2     never smoked      0\n",
              "2  16523  Female   8.0  ...  17.6              NaN      0\n",
              "3  56543  Female  70.0  ...  35.9  formerly smoked      0\n",
              "4  46136    Male  14.0  ...  19.1              NaN      0\n",
              "\n",
              "[5 rows x 12 columns]"
            ]
          },
          "metadata": {},
          "execution_count": 4
        }
      ]
    },
    {
      "cell_type": "code",
      "metadata": {
        "colab": {
          "base_uri": "https://localhost:8080/",
          "height": 206
        },
        "id": "Nu85X3Nl_G2g",
        "outputId": "0b0dd340-8772-4c91-afc1-a286ec2f3b7a"
      },
      "source": [
        "data.tail()"
      ],
      "execution_count": null,
      "outputs": [
        {
          "output_type": "execute_result",
          "data": {
            "text/html": [
              "<div>\n",
              "<style scoped>\n",
              "    .dataframe tbody tr th:only-of-type {\n",
              "        vertical-align: middle;\n",
              "    }\n",
              "\n",
              "    .dataframe tbody tr th {\n",
              "        vertical-align: top;\n",
              "    }\n",
              "\n",
              "    .dataframe thead th {\n",
              "        text-align: right;\n",
              "    }\n",
              "</style>\n",
              "<table border=\"1\" class=\"dataframe\">\n",
              "  <thead>\n",
              "    <tr style=\"text-align: right;\">\n",
              "      <th></th>\n",
              "      <th>id</th>\n",
              "      <th>gender</th>\n",
              "      <th>age</th>\n",
              "      <th>hypertension</th>\n",
              "      <th>heart_disease</th>\n",
              "      <th>ever_married</th>\n",
              "      <th>work_type</th>\n",
              "      <th>Residence_type</th>\n",
              "      <th>avg_glucose_level</th>\n",
              "      <th>bmi</th>\n",
              "      <th>smoking_status</th>\n",
              "      <th>stroke</th>\n",
              "    </tr>\n",
              "  </thead>\n",
              "  <tbody>\n",
              "    <tr>\n",
              "      <th>43395</th>\n",
              "      <td>56196</td>\n",
              "      <td>Female</td>\n",
              "      <td>10.0</td>\n",
              "      <td>0</td>\n",
              "      <td>0</td>\n",
              "      <td>No</td>\n",
              "      <td>children</td>\n",
              "      <td>Urban</td>\n",
              "      <td>58.64</td>\n",
              "      <td>20.4</td>\n",
              "      <td>never smoked</td>\n",
              "      <td>0</td>\n",
              "    </tr>\n",
              "    <tr>\n",
              "      <th>43396</th>\n",
              "      <td>5450</td>\n",
              "      <td>Female</td>\n",
              "      <td>56.0</td>\n",
              "      <td>0</td>\n",
              "      <td>0</td>\n",
              "      <td>Yes</td>\n",
              "      <td>Govt_job</td>\n",
              "      <td>Urban</td>\n",
              "      <td>213.61</td>\n",
              "      <td>55.4</td>\n",
              "      <td>formerly smoked</td>\n",
              "      <td>0</td>\n",
              "    </tr>\n",
              "    <tr>\n",
              "      <th>43397</th>\n",
              "      <td>28375</td>\n",
              "      <td>Female</td>\n",
              "      <td>82.0</td>\n",
              "      <td>1</td>\n",
              "      <td>0</td>\n",
              "      <td>Yes</td>\n",
              "      <td>Private</td>\n",
              "      <td>Urban</td>\n",
              "      <td>91.94</td>\n",
              "      <td>28.9</td>\n",
              "      <td>formerly smoked</td>\n",
              "      <td>0</td>\n",
              "    </tr>\n",
              "    <tr>\n",
              "      <th>43398</th>\n",
              "      <td>27973</td>\n",
              "      <td>Male</td>\n",
              "      <td>40.0</td>\n",
              "      <td>0</td>\n",
              "      <td>0</td>\n",
              "      <td>Yes</td>\n",
              "      <td>Private</td>\n",
              "      <td>Urban</td>\n",
              "      <td>99.16</td>\n",
              "      <td>33.2</td>\n",
              "      <td>never smoked</td>\n",
              "      <td>0</td>\n",
              "    </tr>\n",
              "    <tr>\n",
              "      <th>43399</th>\n",
              "      <td>36271</td>\n",
              "      <td>Female</td>\n",
              "      <td>82.0</td>\n",
              "      <td>0</td>\n",
              "      <td>0</td>\n",
              "      <td>Yes</td>\n",
              "      <td>Private</td>\n",
              "      <td>Urban</td>\n",
              "      <td>79.48</td>\n",
              "      <td>20.6</td>\n",
              "      <td>never smoked</td>\n",
              "      <td>0</td>\n",
              "    </tr>\n",
              "  </tbody>\n",
              "</table>\n",
              "</div>"
            ],
            "text/plain": [
              "          id  gender   age  ...   bmi   smoking_status stroke\n",
              "43395  56196  Female  10.0  ...  20.4     never smoked      0\n",
              "43396   5450  Female  56.0  ...  55.4  formerly smoked      0\n",
              "43397  28375  Female  82.0  ...  28.9  formerly smoked      0\n",
              "43398  27973    Male  40.0  ...  33.2     never smoked      0\n",
              "43399  36271  Female  82.0  ...  20.6     never smoked      0\n",
              "\n",
              "[5 rows x 12 columns]"
            ]
          },
          "metadata": {},
          "execution_count": 5
        }
      ]
    },
    {
      "cell_type": "code",
      "metadata": {
        "colab": {
          "base_uri": "https://localhost:8080/"
        },
        "id": "MN9Rm_go_Kfk",
        "outputId": "d96c467c-c088-48f7-9be2-896bc0fcc74e"
      },
      "source": [
        "data.shape"
      ],
      "execution_count": null,
      "outputs": [
        {
          "output_type": "execute_result",
          "data": {
            "text/plain": [
              "(43400, 12)"
            ]
          },
          "metadata": {},
          "execution_count": 6
        }
      ]
    },
    {
      "cell_type": "code",
      "metadata": {
        "colab": {
          "base_uri": "https://localhost:8080/"
        },
        "id": "XPluUzJc_M_F",
        "outputId": "e5013a16-ec6c-42f2-e8e8-4e949ff5f6fc"
      },
      "source": [
        "#Getting null values of every attribute\n",
        "data.isna().sum()"
      ],
      "execution_count": null,
      "outputs": [
        {
          "output_type": "execute_result",
          "data": {
            "text/plain": [
              "id                       0\n",
              "gender                   0\n",
              "age                      0\n",
              "hypertension             0\n",
              "heart_disease            0\n",
              "ever_married             0\n",
              "work_type                0\n",
              "Residence_type           0\n",
              "avg_glucose_level        0\n",
              "bmi                   1462\n",
              "smoking_status       13292\n",
              "stroke                   0\n",
              "dtype: int64"
            ]
          },
          "metadata": {},
          "execution_count": 7
        }
      ]
    },
    {
      "cell_type": "code",
      "metadata": {
        "id": "jM3WEzrp0aTt"
      },
      "source": [
        "#Filling the missing BMI values with mean of the data\n",
        "mean = data[\"bmi\"].mean()\n",
        "data[\"bmi\"].fillna(value=mean, inplace=True)"
      ],
      "execution_count": null,
      "outputs": []
    },
    {
      "cell_type": "code",
      "metadata": {
        "colab": {
          "base_uri": "https://localhost:8080/"
        },
        "id": "iBoJqOXJ_kL9",
        "outputId": "2561e48c-de0e-4ccf-9777-b87b92df0e17"
      },
      "source": [
        "data.isna().sum()"
      ],
      "execution_count": null,
      "outputs": [
        {
          "output_type": "execute_result",
          "data": {
            "text/plain": [
              "id                       0\n",
              "gender                   0\n",
              "age                      0\n",
              "hypertension             0\n",
              "heart_disease            0\n",
              "ever_married             0\n",
              "work_type                0\n",
              "Residence_type           0\n",
              "avg_glucose_level        0\n",
              "bmi                      0\n",
              "smoking_status       13292\n",
              "stroke                   0\n",
              "dtype: int64"
            ]
          },
          "metadata": {},
          "execution_count": 9
        }
      ]
    },
    {
      "cell_type": "code",
      "metadata": {
        "id": "cMSor7yy6QCt"
      },
      "source": [
        "#Filling missing smoking statues using the most common value\n",
        "data[\"smoking_status\"].fillna(data[\"smoking_status\"].value_counts().index[0], inplace=True)"
      ],
      "execution_count": null,
      "outputs": []
    },
    {
      "cell_type": "code",
      "metadata": {
        "colab": {
          "base_uri": "https://localhost:8080/"
        },
        "id": "SYYepnBy6UkU",
        "outputId": "a29e5d1b-a3e6-42ac-95d4-6ed6dfaf634b"
      },
      "source": [
        "data.isna().sum()"
      ],
      "execution_count": null,
      "outputs": [
        {
          "output_type": "execute_result",
          "data": {
            "text/plain": [
              "id                   0\n",
              "gender               0\n",
              "age                  0\n",
              "hypertension         0\n",
              "heart_disease        0\n",
              "ever_married         0\n",
              "work_type            0\n",
              "Residence_type       0\n",
              "avg_glucose_level    0\n",
              "bmi                  0\n",
              "smoking_status       0\n",
              "stroke               0\n",
              "dtype: int64"
            ]
          },
          "metadata": {},
          "execution_count": 11
        }
      ]
    },
    {
      "cell_type": "code",
      "metadata": {
        "colab": {
          "base_uri": "https://localhost:8080/"
        },
        "id": "-sWnnFzd1C9W",
        "outputId": "3665d377-aed4-4243-e755-103cbd7c1530"
      },
      "source": [
        "data.shape"
      ],
      "execution_count": null,
      "outputs": [
        {
          "output_type": "execute_result",
          "data": {
            "text/plain": [
              "(43400, 12)"
            ]
          },
          "metadata": {},
          "execution_count": 12
        }
      ]
    },
    {
      "cell_type": "code",
      "metadata": {
        "colab": {
          "base_uri": "https://localhost:8080/"
        },
        "id": "fyTsQiFf_nlT",
        "outputId": "7150b41b-cac6-4a94-9c85-c547b6f3c48d"
      },
      "source": [
        "data[\"stroke\"].value_counts()"
      ],
      "execution_count": null,
      "outputs": [
        {
          "output_type": "execute_result",
          "data": {
            "text/plain": [
              "0    42617\n",
              "1      783\n",
              "Name: stroke, dtype: int64"
            ]
          },
          "metadata": {},
          "execution_count": 13
        }
      ]
    },
    {
      "cell_type": "code",
      "metadata": {
        "colab": {
          "base_uri": "https://localhost:8080/",
          "height": 404
        },
        "id": "SxtOWztw_sMA",
        "outputId": "1a5bf167-46b9-4937-e98e-3629a5611de1"
      },
      "source": [
        "#Plotting a bar-graph for the target column\n",
        "data[\"stroke\"].value_counts().plot(kind=\"bar\", color=[\"orange\", \"blue\"], figsize=(8,6))\n",
        "plt.xlabel(\"0 = No stroke, 1 = stroke\")\n",
        "plt.ylabel(\"Instances\")\n",
        "plt.title(\"Instances vs Outcomes\")\n",
        "plt.xticks(rotation=0)\n",
        "plt.show()"
      ],
      "execution_count": null,
      "outputs": [
        {
          "output_type": "display_data",
          "data": {
            "image/png": "[encoded data removed]",
            "text/plain": [
              "<Figure size 576x432 with 1 Axes>"
            ]
          },
          "metadata": {
            "needs_background": "light"
          }
        }
      ]
    },
    {
      "cell_type": "code",
      "metadata": {
        "colab": {
          "base_uri": "https://localhost:8080/"
        },
        "id": "5Muxtciy_vL1",
        "outputId": "d74f017c-546f-49c7-805b-4aee00af3ecb"
      },
      "source": [
        "data.info()"
      ],
      "execution_count": null,
      "outputs": [
        {
          "output_type": "stream",
          "name": "stdout",
          "text": [
            "<class 'pandas.core.frame.DataFrame'>\n",
            "RangeIndex: 43400 entries, 0 to 43399\n",
            "Data columns (total 12 columns):\n",
            " #   Column             Non-Null Count  Dtype  \n",
            "---  ------             --------------  -----  \n",
            " 0   id                 43400 non-null  int64  \n",
            " 1   gender             43400 non-null  object \n",
            " 2   age                43400 non-null  float64\n",
            " 3   hypertension       43400 non-null  int64  \n",
            " 4   heart_disease      43400 non-null  int64  \n",
            " 5   ever_married       43400 non-null  object \n",
            " 6   work_type          43400 non-null  object \n",
            " 7   Residence_type     43400 non-null  object \n",
            " 8   avg_glucose_level  43400 non-null  float64\n",
            " 9   bmi                43400 non-null  float64\n",
            " 10  smoking_status     43400 non-null  object \n",
            " 11  stroke             43400 non-null  int64  \n",
            "dtypes: float64(3), int64(4), object(5)\n",
            "memory usage: 4.0+ MB\n"
          ]
        }
      ]
    },
    {
      "cell_type": "code",
      "metadata": {
        "colab": {
          "base_uri": "https://localhost:8080/",
          "height": 269
        },
        "id": "MNtXrF8h_zI-",
        "outputId": "0fcf6056-af2b-420a-aa35-1acbd6fe3d01"
      },
      "source": [
        "data.describe().T"
      ],
      "execution_count": null,
      "outputs": [
        {
          "output_type": "execute_result",
          "data": {
            "text/html": [
              "<div>\n",
              "<style scoped>\n",
              "    .dataframe tbody tr th:only-of-type {\n",
              "        vertical-align: middle;\n",
              "    }\n",
              "\n",
              "    .dataframe tbody tr th {\n",
              "        vertical-align: top;\n",
              "    }\n",
              "\n",
              "    .dataframe thead th {\n",
              "        text-align: right;\n",
              "    }\n",
              "</style>\n",
              "<table border=\"1\" class=\"dataframe\">\n",
              "  <thead>\n",
              "    <tr style=\"text-align: right;\">\n",
              "      <th></th>\n",
              "      <th>count</th>\n",
              "      <th>mean</th>\n",
              "      <th>std</th>\n",
              "      <th>min</th>\n",
              "      <th>25%</th>\n",
              "      <th>50%</th>\n",
              "      <th>75%</th>\n",
              "      <th>max</th>\n",
              "    </tr>\n",
              "  </thead>\n",
              "  <tbody>\n",
              "    <tr>\n",
              "      <th>id</th>\n",
              "      <td>43400.0</td>\n",
              "      <td>36326.142350</td>\n",
              "      <td>21072.134879</td>\n",
              "      <td>1.00</td>\n",
              "      <td>18038.50</td>\n",
              "      <td>36351.50</td>\n",
              "      <td>54514.25</td>\n",
              "      <td>72943.00</td>\n",
              "    </tr>\n",
              "    <tr>\n",
              "      <th>age</th>\n",
              "      <td>43400.0</td>\n",
              "      <td>42.217894</td>\n",
              "      <td>22.519649</td>\n",
              "      <td>0.08</td>\n",
              "      <td>24.00</td>\n",
              "      <td>44.00</td>\n",
              "      <td>60.00</td>\n",
              "      <td>82.00</td>\n",
              "    </tr>\n",
              "    <tr>\n",
              "      <th>hypertension</th>\n",
              "      <td>43400.0</td>\n",
              "      <td>0.093571</td>\n",
              "      <td>0.291235</td>\n",
              "      <td>0.00</td>\n",
              "      <td>0.00</td>\n",
              "      <td>0.00</td>\n",
              "      <td>0.00</td>\n",
              "      <td>1.00</td>\n",
              "    </tr>\n",
              "    <tr>\n",
              "      <th>heart_disease</th>\n",
              "      <td>43400.0</td>\n",
              "      <td>0.047512</td>\n",
              "      <td>0.212733</td>\n",
              "      <td>0.00</td>\n",
              "      <td>0.00</td>\n",
              "      <td>0.00</td>\n",
              "      <td>0.00</td>\n",
              "      <td>1.00</td>\n",
              "    </tr>\n",
              "    <tr>\n",
              "      <th>avg_glucose_level</th>\n",
              "      <td>43400.0</td>\n",
              "      <td>104.482750</td>\n",
              "      <td>43.111751</td>\n",
              "      <td>55.00</td>\n",
              "      <td>77.54</td>\n",
              "      <td>91.58</td>\n",
              "      <td>112.07</td>\n",
              "      <td>291.05</td>\n",
              "    </tr>\n",
              "    <tr>\n",
              "      <th>bmi</th>\n",
              "      <td>43400.0</td>\n",
              "      <td>28.605038</td>\n",
              "      <td>7.638023</td>\n",
              "      <td>10.10</td>\n",
              "      <td>23.40</td>\n",
              "      <td>28.10</td>\n",
              "      <td>32.60</td>\n",
              "      <td>97.60</td>\n",
              "    </tr>\n",
              "    <tr>\n",
              "      <th>stroke</th>\n",
              "      <td>43400.0</td>\n",
              "      <td>0.018041</td>\n",
              "      <td>0.133103</td>\n",
              "      <td>0.00</td>\n",
              "      <td>0.00</td>\n",
              "      <td>0.00</td>\n",
              "      <td>0.00</td>\n",
              "      <td>1.00</td>\n",
              "    </tr>\n",
              "  </tbody>\n",
              "</table>\n",
              "</div>"
            ],
            "text/plain": [
              "                     count          mean  ...       75%       max\n",
              "id                 43400.0  36326.142350  ...  54514.25  72943.00\n",
              "age                43400.0     42.217894  ...     60.00     82.00\n",
              "hypertension       43400.0      0.093571  ...      0.00      1.00\n",
              "heart_disease      43400.0      0.047512  ...      0.00      1.00\n",
              "avg_glucose_level  43400.0    104.482750  ...    112.07    291.05\n",
              "bmi                43400.0     28.605038  ...     32.60     97.60\n",
              "stroke             43400.0      0.018041  ...      0.00      1.00\n",
              "\n",
              "[7 rows x 8 columns]"
            ]
          },
          "metadata": {},
          "execution_count": 16
        }
      ]
    },
    {
      "cell_type": "code",
      "metadata": {
        "colab": {
          "base_uri": "https://localhost:8080/",
          "height": 490
        },
        "id": "VKKkd9YT_3Ce",
        "outputId": "1d31d859-dfc8-46b6-e0c0-7155d8a0c607"
      },
      "source": [
        "#Plotting a heatmap for the correlation matrix\n",
        "sns.set(rc={'figure.figsize':(15,8)})\n",
        "sns.heatmap(data.corr(), cmap='YlGnBu', annot=True);"
      ],
      "execution_count": null,
      "outputs": [
        {
          "output_type": "display_data",
          "data": {
            "image/png": "[encoded data removed]",
            "text/plain": [
              "<Figure size 1080x576 with 2 Axes>"
            ]
          },
          "metadata": {}
        }
      ]
    },
    {
      "cell_type": "code",
      "metadata": {
        "colab": {
          "base_uri": "https://localhost:8080/"
        },
        "id": "OkyEqJ6x_7AW",
        "outputId": "56a4a5a0-10c9-41d4-a60c-7a5c67b2387b"
      },
      "source": [
        "data[\"gender\"].value_counts()"
      ],
      "execution_count": null,
      "outputs": [
        {
          "output_type": "execute_result",
          "data": {
            "text/plain": [
              "Female    25665\n",
              "Male      17724\n",
              "Other        11\n",
              "Name: gender, dtype: int64"
            ]
          },
          "metadata": {},
          "execution_count": 18
        }
      ]
    },
    {
      "cell_type": "code",
      "metadata": {
        "colab": {
          "base_uri": "https://localhost:8080/"
        },
        "id": "yQ-SMDkrABJd",
        "outputId": "bddbd80e-dcc7-46dc-ebb8-d9fd692e05ca"
      },
      "source": [
        "data[\"ever_married\"].value_counts()"
      ],
      "execution_count": null,
      "outputs": [
        {
          "output_type": "execute_result",
          "data": {
            "text/plain": [
              "Yes    27938\n",
              "No     15462\n",
              "Name: ever_married, dtype: int64"
            ]
          },
          "metadata": {},
          "execution_count": 19
        }
      ]
    },
    {
      "cell_type": "code",
      "metadata": {
        "colab": {
          "base_uri": "https://localhost:8080/"
        },
        "id": "NWyioOcQAGG-",
        "outputId": "a0e6a7bf-e32e-468b-8b92-78f8a85007c8"
      },
      "source": [
        "data[\"work_type\"].value_counts()"
      ],
      "execution_count": null,
      "outputs": [
        {
          "output_type": "execute_result",
          "data": {
            "text/plain": [
              "Private          24834\n",
              "Self-employed     6793\n",
              "children          6156\n",
              "Govt_job          5440\n",
              "Never_worked       177\n",
              "Name: work_type, dtype: int64"
            ]
          },
          "metadata": {},
          "execution_count": 20
        }
      ]
    },
    {
      "cell_type": "code",
      "metadata": {
        "colab": {
          "base_uri": "https://localhost:8080/"
        },
        "id": "wsFLMBSjAKZf",
        "outputId": "6651fd41-e777-49a2-b4cb-8a20ee3bf8e2"
      },
      "source": [
        "data[\"Residence_type\"].value_counts()"
      ],
      "execution_count": null,
      "outputs": [
        {
          "output_type": "execute_result",
          "data": {
            "text/plain": [
              "Urban    21756\n",
              "Rural    21644\n",
              "Name: Residence_type, dtype: int64"
            ]
          },
          "metadata": {},
          "execution_count": 21
        }
      ]
    },
    {
      "cell_type": "code",
      "metadata": {
        "id": "165equlJATFR"
      },
      "source": [
        "#Using label encoding for converting categorical values to numeric\n",
        "le = preprocessing.LabelEncoder()\n",
        "\n",
        "data[\"gender\"] = le.fit_transform(data[\"gender\"])\n",
        "data[\"ever_married\"] = le.fit_transform(data['ever_married'])\n",
        "data[\"work_type\"] = le.fit_transform(data[\"work_type\"])\n",
        "data[\"Residence_type\"] = le.fit_transform(data[\"Residence_type\"])\n",
        "data[\"smoking_status\"] = le.fit_transform(data[\"smoking_status\"])"
      ],
      "execution_count": null,
      "outputs": []
    },
    {
      "cell_type": "code",
      "source": [
        ""
      ],
      "metadata": {
        "id": "fB71KDiXC3lE"
      },
      "execution_count": null,
      "outputs": []
    },
    {
      "cell_type": "code",
      "metadata": {
        "colab": {
          "base_uri": "https://localhost:8080/"
        },
        "id": "AVa4AJ7feWC5",
        "outputId": "236f6903-231e-4f45-9bed-f3465d82df39"
      },
      "source": [
        "data[\"gender\"].unique()"
      ],
      "execution_count": null,
      "outputs": [
        {
          "output_type": "execute_result",
          "data": {
            "text/plain": [
              "array([1, 0, 2])"
            ]
          },
          "metadata": {},
          "execution_count": 23
        }
      ]
    },
    {
      "cell_type": "code",
      "metadata": {
        "colab": {
          "base_uri": "https://localhost:8080/",
          "height": 206
        },
        "id": "gc7WV-rRAXpy",
        "outputId": "c3e6e326-b9c1-4f37-af9d-b166f804696c"
      },
      "source": [
        "data.head()"
      ],
      "execution_count": null,
      "outputs": [
        {
          "output_type": "execute_result",
          "data": {
            "text/html": [
              "<div>\n",
              "<style scoped>\n",
              "    .dataframe tbody tr th:only-of-type {\n",
              "        vertical-align: middle;\n",
              "    }\n",
              "\n",
              "    .dataframe tbody tr th {\n",
              "        vertical-align: top;\n",
              "    }\n",
              "\n",
              "    .dataframe thead th {\n",
              "        text-align: right;\n",
              "    }\n",
              "</style>\n",
              "<table border=\"1\" class=\"dataframe\">\n",
              "  <thead>\n",
              "    <tr style=\"text-align: right;\">\n",
              "      <th></th>\n",
              "      <th>id</th>\n",
              "      <th>gender</th>\n",
              "      <th>age</th>\n",
              "      <th>hypertension</th>\n",
              "      <th>heart_disease</th>\n",
              "      <th>ever_married</th>\n",
              "      <th>work_type</th>\n",
              "      <th>Residence_type</th>\n",
              "      <th>avg_glucose_level</th>\n",
              "      <th>bmi</th>\n",
              "      <th>smoking_status</th>\n",
              "      <th>stroke</th>\n",
              "    </tr>\n",
              "  </thead>\n",
              "  <tbody>\n",
              "    <tr>\n",
              "      <th>0</th>\n",
              "      <td>30669</td>\n",
              "      <td>1</td>\n",
              "      <td>3.0</td>\n",
              "      <td>0</td>\n",
              "      <td>0</td>\n",
              "      <td>0</td>\n",
              "      <td>4</td>\n",
              "      <td>0</td>\n",
              "      <td>95.12</td>\n",
              "      <td>18.0</td>\n",
              "      <td>1</td>\n",
              "      <td>0</td>\n",
              "    </tr>\n",
              "    <tr>\n",
              "      <th>1</th>\n",
              "      <td>30468</td>\n",
              "      <td>1</td>\n",
              "      <td>58.0</td>\n",
              "      <td>1</td>\n",
              "      <td>0</td>\n",
              "      <td>1</td>\n",
              "      <td>2</td>\n",
              "      <td>1</td>\n",
              "      <td>87.96</td>\n",
              "      <td>39.2</td>\n",
              "      <td>1</td>\n",
              "      <td>0</td>\n",
              "    </tr>\n",
              "    <tr>\n",
              "      <th>2</th>\n",
              "      <td>16523</td>\n",
              "      <td>0</td>\n",
              "      <td>8.0</td>\n",
              "      <td>0</td>\n",
              "      <td>0</td>\n",
              "      <td>0</td>\n",
              "      <td>2</td>\n",
              "      <td>1</td>\n",
              "      <td>110.89</td>\n",
              "      <td>17.6</td>\n",
              "      <td>1</td>\n",
              "      <td>0</td>\n",
              "    </tr>\n",
              "    <tr>\n",
              "      <th>3</th>\n",
              "      <td>56543</td>\n",
              "      <td>0</td>\n",
              "      <td>70.0</td>\n",
              "      <td>0</td>\n",
              "      <td>0</td>\n",
              "      <td>1</td>\n",
              "      <td>2</td>\n",
              "      <td>0</td>\n",
              "      <td>69.04</td>\n",
              "      <td>35.9</td>\n",
              "      <td>0</td>\n",
              "      <td>0</td>\n",
              "    </tr>\n",
              "    <tr>\n",
              "      <th>4</th>\n",
              "      <td>46136</td>\n",
              "      <td>1</td>\n",
              "      <td>14.0</td>\n",
              "      <td>0</td>\n",
              "      <td>0</td>\n",
              "      <td>0</td>\n",
              "      <td>1</td>\n",
              "      <td>0</td>\n",
              "      <td>161.28</td>\n",
              "      <td>19.1</td>\n",
              "      <td>1</td>\n",
              "      <td>0</td>\n",
              "    </tr>\n",
              "  </tbody>\n",
              "</table>\n",
              "</div>"
            ],
            "text/plain": [
              "      id  gender   age  ...   bmi  smoking_status  stroke\n",
              "0  30669       1   3.0  ...  18.0               1       0\n",
              "1  30468       1  58.0  ...  39.2               1       0\n",
              "2  16523       0   8.0  ...  17.6               1       0\n",
              "3  56543       0  70.0  ...  35.9               0       0\n",
              "4  46136       1  14.0  ...  19.1               1       0\n",
              "\n",
              "[5 rows x 12 columns]"
            ]
          },
          "metadata": {},
          "execution_count": 24
        }
      ]
    },
    {
      "cell_type": "code",
      "metadata": {
        "colab": {
          "base_uri": "https://localhost:8080/",
          "height": 143
        },
        "id": "rmZTfFZYAdJh",
        "outputId": "1e4c8035-90df-4209-9837-55bff83fb8bf"
      },
      "source": [
        "pd.crosstab(data[\"stroke\"], data[\"gender\"])"
      ],
      "execution_count": null,
      "outputs": [
        {
          "output_type": "execute_result",
          "data": {
            "text/html": [
              "<div>\n",
              "<style scoped>\n",
              "    .dataframe tbody tr th:only-of-type {\n",
              "        vertical-align: middle;\n",
              "    }\n",
              "\n",
              "    .dataframe tbody tr th {\n",
              "        vertical-align: top;\n",
              "    }\n",
              "\n",
              "    .dataframe thead th {\n",
              "        text-align: right;\n",
              "    }\n",
              "</style>\n",
              "<table border=\"1\" class=\"dataframe\">\n",
              "  <thead>\n",
              "    <tr style=\"text-align: right;\">\n",
              "      <th>gender</th>\n",
              "      <th>0</th>\n",
              "      <th>1</th>\n",
              "      <th>2</th>\n",
              "    </tr>\n",
              "    <tr>\n",
              "      <th>stroke</th>\n",
              "      <th></th>\n",
              "      <th></th>\n",
              "      <th></th>\n",
              "    </tr>\n",
              "  </thead>\n",
              "  <tbody>\n",
              "    <tr>\n",
              "      <th>0</th>\n",
              "      <td>25234</td>\n",
              "      <td>17372</td>\n",
              "      <td>11</td>\n",
              "    </tr>\n",
              "    <tr>\n",
              "      <th>1</th>\n",
              "      <td>431</td>\n",
              "      <td>352</td>\n",
              "      <td>0</td>\n",
              "    </tr>\n",
              "  </tbody>\n",
              "</table>\n",
              "</div>"
            ],
            "text/plain": [
              "gender      0      1   2\n",
              "stroke                  \n",
              "0       25234  17372  11\n",
              "1         431    352   0"
            ]
          },
          "metadata": {},
          "execution_count": 25
        }
      ]
    },
    {
      "cell_type": "code",
      "metadata": {
        "colab": {
          "base_uri": "https://localhost:8080/",
          "height": 499
        },
        "id": "S50pUjWYAfkZ",
        "outputId": "20afde10-db1e-4ab9-dd00-9c13e537aaee"
      },
      "source": [
        "#Plotting a bar graph for gender\n",
        "pd.crosstab(data[\"stroke\"], data[\"gender\"]).plot(kind=\"bar\",\n",
        "                                                figsize=(10,8),\n",
        "                                                color=[\"Orange\", \"lightblue\", \"green\"])\n",
        "plt.show()"
      ],
      "execution_count": null,
      "outputs": [
        {
          "output_type": "display_data",
          "data": {
            "image/png": "[encoded data removed]",
            "text/plain": [
              "<Figure size 720x576 with 1 Axes>"
            ]
          },
          "metadata": {}
        }
      ]
    },
    {
      "cell_type": "code",
      "metadata": {
        "colab": {
          "base_uri": "https://localhost:8080/",
          "height": 377
        },
        "id": "scQl6LhIAiKD",
        "outputId": "9bf182c9-4f26-4a2f-f988-e52d92440690"
      },
      "source": [
        "#Plotting histogram for age based on frequency\n",
        "data.age.plot.hist(figsize=(8,6));"
      ],
      "execution_count": null,
      "outputs": [
        {
          "output_type": "display_data",
          "data": {
            "image/png": "[encoded data removed]",
            "text/plain": [
              "<Figure size 576x432 with 1 Axes>"
            ]
          },
          "metadata": {}
        }
      ]
    },
    {
      "cell_type": "code",
      "metadata": {
        "id": "dtBG8BuUAp0M"
      },
      "source": [
        "#Splitting data into X & y\n",
        "X = data.drop(\"stroke\", axis=1)\n",
        "y = data[\"stroke\"]"
      ],
      "execution_count": null,
      "outputs": []
    },
    {
      "cell_type": "code",
      "metadata": {
        "colab": {
          "base_uri": "https://localhost:8080/",
          "height": 423
        },
        "id": "q9ACn7itAsaB",
        "outputId": "bdf71dd2-dc3c-4e07-f17d-e88721dc832f"
      },
      "source": [
        "X"
      ],
      "execution_count": null,
      "outputs": [
        {
          "output_type": "execute_result",
          "data": {
            "text/html": [
              "<div>\n",
              "<style scoped>\n",
              "    .dataframe tbody tr th:only-of-type {\n",
              "        vertical-align: middle;\n",
              "    }\n",
              "\n",
              "    .dataframe tbody tr th {\n",
              "        vertical-align: top;\n",
              "    }\n",
              "\n",
              "    .dataframe thead th {\n",
              "        text-align: right;\n",
              "    }\n",
              "</style>\n",
              "<table border=\"1\" class=\"dataframe\">\n",
              "  <thead>\n",
              "    <tr style=\"text-align: right;\">\n",
              "      <th></th>\n",
              "      <th>id</th>\n",
              "      <th>gender</th>\n",
              "      <th>age</th>\n",
              "      <th>hypertension</th>\n",
              "      <th>heart_disease</th>\n",
              "      <th>ever_married</th>\n",
              "      <th>work_type</th>\n",
              "      <th>Residence_type</th>\n",
              "      <th>avg_glucose_level</th>\n",
              "      <th>bmi</th>\n",
              "      <th>smoking_status</th>\n",
              "    </tr>\n",
              "  </thead>\n",
              "  <tbody>\n",
              "    <tr>\n",
              "      <th>0</th>\n",
              "      <td>30669</td>\n",
              "      <td>1</td>\n",
              "      <td>3.0</td>\n",
              "      <td>0</td>\n",
              "      <td>0</td>\n",
              "      <td>0</td>\n",
              "      <td>4</td>\n",
              "      <td>0</td>\n",
              "      <td>95.12</td>\n",
              "      <td>18.0</td>\n",
              "      <td>1</td>\n",
              "    </tr>\n",
              "    <tr>\n",
              "      <th>1</th>\n",
              "      <td>30468</td>\n",
              "      <td>1</td>\n",
              "      <td>58.0</td>\n",
              "      <td>1</td>\n",
              "      <td>0</td>\n",
              "      <td>1</td>\n",
              "      <td>2</td>\n",
              "      <td>1</td>\n",
              "      <td>87.96</td>\n",
              "      <td>39.2</td>\n",
              "      <td>1</td>\n",
              "    </tr>\n",
              "    <tr>\n",
              "      <th>2</th>\n",
              "      <td>16523</td>\n",
              "      <td>0</td>\n",
              "      <td>8.0</td>\n",
              "      <td>0</td>\n",
              "      <td>0</td>\n",
              "      <td>0</td>\n",
              "      <td>2</td>\n",
              "      <td>1</td>\n",
              "      <td>110.89</td>\n",
              "      <td>17.6</td>\n",
              "      <td>1</td>\n",
              "    </tr>\n",
              "    <tr>\n",
              "      <th>3</th>\n",
              "      <td>56543</td>\n",
              "      <td>0</td>\n",
              "      <td>70.0</td>\n",
              "      <td>0</td>\n",
              "      <td>0</td>\n",
              "      <td>1</td>\n",
              "      <td>2</td>\n",
              "      <td>0</td>\n",
              "      <td>69.04</td>\n",
              "      <td>35.9</td>\n",
              "      <td>0</td>\n",
              "    </tr>\n",
              "    <tr>\n",
              "      <th>4</th>\n",
              "      <td>46136</td>\n",
              "      <td>1</td>\n",
              "      <td>14.0</td>\n",
              "      <td>0</td>\n",
              "      <td>0</td>\n",
              "      <td>0</td>\n",
              "      <td>1</td>\n",
              "      <td>0</td>\n",
              "      <td>161.28</td>\n",
              "      <td>19.1</td>\n",
              "      <td>1</td>\n",
              "    </tr>\n",
              "    <tr>\n",
              "      <th>...</th>\n",
              "      <td>...</td>\n",
              "      <td>...</td>\n",
              "      <td>...</td>\n",
              "      <td>...</td>\n",
              "      <td>...</td>\n",
              "      <td>...</td>\n",
              "      <td>...</td>\n",
              "      <td>...</td>\n",
              "      <td>...</td>\n",
              "      <td>...</td>\n",
              "      <td>...</td>\n",
              "    </tr>\n",
              "    <tr>\n",
              "      <th>43395</th>\n",
              "      <td>56196</td>\n",
              "      <td>0</td>\n",
              "      <td>10.0</td>\n",
              "      <td>0</td>\n",
              "      <td>0</td>\n",
              "      <td>0</td>\n",
              "      <td>4</td>\n",
              "      <td>1</td>\n",
              "      <td>58.64</td>\n",
              "      <td>20.4</td>\n",
              "      <td>1</td>\n",
              "    </tr>\n",
              "    <tr>\n",
              "      <th>43396</th>\n",
              "      <td>5450</td>\n",
              "      <td>0</td>\n",
              "      <td>56.0</td>\n",
              "      <td>0</td>\n",
              "      <td>0</td>\n",
              "      <td>1</td>\n",
              "      <td>0</td>\n",
              "      <td>1</td>\n",
              "      <td>213.61</td>\n",
              "      <td>55.4</td>\n",
              "      <td>0</td>\n",
              "    </tr>\n",
              "    <tr>\n",
              "      <th>43397</th>\n",
              "      <td>28375</td>\n",
              "      <td>0</td>\n",
              "      <td>82.0</td>\n",
              "      <td>1</td>\n",
              "      <td>0</td>\n",
              "      <td>1</td>\n",
              "      <td>2</td>\n",
              "      <td>1</td>\n",
              "      <td>91.94</td>\n",
              "      <td>28.9</td>\n",
              "      <td>0</td>\n",
              "    </tr>\n",
              "    <tr>\n",
              "      <th>43398</th>\n",
              "      <td>27973</td>\n",
              "      <td>1</td>\n",
              "      <td>40.0</td>\n",
              "      <td>0</td>\n",
              "      <td>0</td>\n",
              "      <td>1</td>\n",
              "      <td>2</td>\n",
              "      <td>1</td>\n",
              "      <td>99.16</td>\n",
              "      <td>33.2</td>\n",
              "      <td>1</td>\n",
              "    </tr>\n",
              "    <tr>\n",
              "      <th>43399</th>\n",
              "      <td>36271</td>\n",
              "      <td>0</td>\n",
              "      <td>82.0</td>\n",
              "      <td>0</td>\n",
              "      <td>0</td>\n",
              "      <td>1</td>\n",
              "      <td>2</td>\n",
              "      <td>1</td>\n",
              "      <td>79.48</td>\n",
              "      <td>20.6</td>\n",
              "      <td>1</td>\n",
              "    </tr>\n",
              "  </tbody>\n",
              "</table>\n",
              "<p>43400 rows × 11 columns</p>\n",
              "</div>"
            ],
            "text/plain": [
              "          id  gender   age  ...  avg_glucose_level   bmi  smoking_status\n",
              "0      30669       1   3.0  ...              95.12  18.0               1\n",
              "1      30468       1  58.0  ...              87.96  39.2               1\n",
              "2      16523       0   8.0  ...             110.89  17.6               1\n",
              "3      56543       0  70.0  ...              69.04  35.9               0\n",
              "4      46136       1  14.0  ...             161.28  19.1               1\n",
              "...      ...     ...   ...  ...                ...   ...             ...\n",
              "43395  56196       0  10.0  ...              58.64  20.4               1\n",
              "43396   5450       0  56.0  ...             213.61  55.4               0\n",
              "43397  28375       0  82.0  ...              91.94  28.9               0\n",
              "43398  27973       1  40.0  ...              99.16  33.2               1\n",
              "43399  36271       0  82.0  ...              79.48  20.6               1\n",
              "\n",
              "[43400 rows x 11 columns]"
            ]
          },
          "metadata": {},
          "execution_count": 29
        }
      ]
    },
    {
      "cell_type": "code",
      "metadata": {
        "colab": {
          "base_uri": "https://localhost:8080/"
        },
        "id": "lmCdZTLQAuOQ",
        "outputId": "6d9ae800-c5cc-406a-9efe-1280468f0314"
      },
      "source": [
        "y"
      ],
      "execution_count": null,
      "outputs": [
        {
          "output_type": "execute_result",
          "data": {
            "text/plain": [
              "0        0\n",
              "1        0\n",
              "2        0\n",
              "3        0\n",
              "4        0\n",
              "        ..\n",
              "43395    0\n",
              "43396    0\n",
              "43397    0\n",
              "43398    0\n",
              "43399    0\n",
              "Name: stroke, Length: 43400, dtype: int64"
            ]
          },
          "metadata": {},
          "execution_count": 30
        }
      ]
    },
    {
      "cell_type": "code",
      "metadata": {
        "colab": {
          "base_uri": "https://localhost:8080/"
        },
        "id": "RxvayjbG7sKV",
        "outputId": "d35eb65e-5d3a-4c45-bc3b-418f109976d6"
      },
      "source": [
        "y.value_counts()"
      ],
      "execution_count": null,
      "outputs": [
        {
          "output_type": "execute_result",
          "data": {
            "text/plain": [
              "0    42617\n",
              "1      783\n",
              "Name: stroke, dtype: int64"
            ]
          },
          "metadata": {},
          "execution_count": 31
        }
      ]
    },
    {
      "cell_type": "code",
      "metadata": {
        "id": "KWPrkW_ye_vz"
      },
      "source": [
        "#Using Standard scaler for preprocessing\n",
        "scaler = preprocessing.StandardScaler()\n",
        "scaled = pd.DataFrame(scaler.fit_transform(X))\n",
        "\n",
        "#scaler = preprocessing.MinMaxScaler()\n",
        "#scaled = pd.DataFrame(scaler.fit_transform(X))"
      ],
      "execution_count": null,
      "outputs": []
    },
    {
      "cell_type": "code",
      "metadata": {
        "colab": {
          "base_uri": "https://localhost:8080/",
          "height": 206
        },
        "id": "NPJ3vip9gPHO",
        "outputId": "5aa776dc-b338-428b-d54e-2828d342d7ee"
      },
      "source": [
        "X = scaled\n",
        "X.head()"
      ],
      "execution_count": null,
      "outputs": [
        {
          "output_type": "execute_result",
          "data": {
            "text/html": [
              "<div>\n",
              "<style scoped>\n",
              "    .dataframe tbody tr th:only-of-type {\n",
              "        vertical-align: middle;\n",
              "    }\n",
              "\n",
              "    .dataframe tbody tr th {\n",
              "        vertical-align: top;\n",
              "    }\n",
              "\n",
              "    .dataframe thead th {\n",
              "        text-align: right;\n",
              "    }\n",
              "</style>\n",
              "<table border=\"1\" class=\"dataframe\">\n",
              "  <thead>\n",
              "    <tr style=\"text-align: right;\">\n",
              "      <th></th>\n",
              "      <th>0</th>\n",
              "      <th>1</th>\n",
              "      <th>2</th>\n",
              "      <th>3</th>\n",
              "      <th>4</th>\n",
              "      <th>5</th>\n",
              "      <th>6</th>\n",
              "      <th>7</th>\n",
              "      <th>8</th>\n",
              "      <th>9</th>\n",
              "      <th>10</th>\n",
              "    </tr>\n",
              "  </thead>\n",
              "  <tbody>\n",
              "    <tr>\n",
              "      <th>0</th>\n",
              "      <td>-0.268469</td>\n",
              "      <td>1.201081</td>\n",
              "      <td>-1.741517</td>\n",
              "      <td>-0.321296</td>\n",
              "      <td>-0.223342</td>\n",
              "      <td>-1.344203</td>\n",
              "      <td>1.659945</td>\n",
              "      <td>-1.002584</td>\n",
              "      <td>-0.217176</td>\n",
              "      <td>-1.388469</td>\n",
              "      <td>0.037722</td>\n",
              "    </tr>\n",
              "    <tr>\n",
              "      <th>1</th>\n",
              "      <td>-0.278007</td>\n",
              "      <td>1.201081</td>\n",
              "      <td>0.700823</td>\n",
              "      <td>3.112398</td>\n",
              "      <td>-0.223342</td>\n",
              "      <td>0.743935</td>\n",
              "      <td>-0.169637</td>\n",
              "      <td>0.997423</td>\n",
              "      <td>-0.383258</td>\n",
              "      <td>1.387150</td>\n",
              "      <td>0.037722</td>\n",
              "    </tr>\n",
              "    <tr>\n",
              "      <th>2</th>\n",
              "      <td>-0.939789</td>\n",
              "      <td>-0.830841</td>\n",
              "      <td>-1.519486</td>\n",
              "      <td>-0.321296</td>\n",
              "      <td>-0.223342</td>\n",
              "      <td>-1.344203</td>\n",
              "      <td>-0.169637</td>\n",
              "      <td>0.997423</td>\n",
              "      <td>0.148621</td>\n",
              "      <td>-1.440839</td>\n",
              "      <td>0.037722</td>\n",
              "    </tr>\n",
              "    <tr>\n",
              "      <th>3</th>\n",
              "      <td>0.959423</td>\n",
              "      <td>-0.830841</td>\n",
              "      <td>1.233697</td>\n",
              "      <td>-0.321296</td>\n",
              "      <td>-0.223342</td>\n",
              "      <td>0.743935</td>\n",
              "      <td>-0.169637</td>\n",
              "      <td>-1.002584</td>\n",
              "      <td>-0.822123</td>\n",
              "      <td>0.955096</td>\n",
              "      <td>-1.720761</td>\n",
              "    </tr>\n",
              "    <tr>\n",
              "      <th>4</th>\n",
              "      <td>0.465542</td>\n",
              "      <td>1.201081</td>\n",
              "      <td>-1.253049</td>\n",
              "      <td>-0.321296</td>\n",
              "      <td>-0.223342</td>\n",
              "      <td>-1.344203</td>\n",
              "      <td>-1.084428</td>\n",
              "      <td>-1.002584</td>\n",
              "      <td>1.317458</td>\n",
              "      <td>-1.244451</td>\n",
              "      <td>0.037722</td>\n",
              "    </tr>\n",
              "  </tbody>\n",
              "</table>\n",
              "</div>"
            ],
            "text/plain": [
              "         0         1         2   ...        8         9         10\n",
              "0 -0.268469  1.201081 -1.741517  ... -0.217176 -1.388469  0.037722\n",
              "1 -0.278007  1.201081  0.700823  ... -0.383258  1.387150  0.037722\n",
              "2 -0.939789 -0.830841 -1.519486  ...  0.148621 -1.440839  0.037722\n",
              "3  0.959423 -0.830841  1.233697  ... -0.822123  0.955096 -1.720761\n",
              "4  0.465542  1.201081 -1.253049  ...  1.317458 -1.244451  0.037722\n",
              "\n",
              "[5 rows x 11 columns]"
            ]
          },
          "metadata": {},
          "execution_count": 33
        }
      ]
    },
    {
      "cell_type": "code",
      "metadata": {
        "id": "YjMQp9oyjWPY"
      },
      "source": [
        "#Splitting data into train & test data \n",
        "np.random.seed(42)\n",
        "\n",
        "X_train, X_test, y_train, y_test = train_test_split(X, y, test_size=0.2)"
      ],
      "execution_count": null,
      "outputs": []
    },
    {
      "cell_type": "code",
      "metadata": {
        "id": "Eua-4YAagVeI"
      },
      "source": [
        "#Oversampling using SMOTE for minority label to balance the dataset\n",
        "\n",
        "#oversample = RandomOverSampler(sampling_strategy=\"minority\")\n",
        "#X_train, y_train = oversample.fit_resample(X_train, y_train)\n",
        "\n",
        "smote = SMOTE()\n",
        "X_train, y_train = smote.fit_resample(X_train, y_train)\n",
        "\n",
        "#undersample = NearMiss()\n",
        "#X_train, y_train = undersample.fit_resample(X_train, y_train)"
      ],
      "execution_count": null,
      "outputs": []
    },
    {
      "cell_type": "code",
      "metadata": {
        "id": "jlGvSOLRAxrC"
      },
      "source": [
        "models = {\"RF\": RandomForestClassifier(),\n",
        "          \"KNN\": KNeighborsClassifier(),\n",
        "          \"DT\": DecisionTreeClassifier()}"
      ],
      "execution_count": null,
      "outputs": []
    },
    {
      "cell_type": "code",
      "metadata": {
        "id": "vupncFU7A1Sf"
      },
      "source": [
        "def finding_scores(models, X_train, X_test, y_train, y_test):\n",
        "    np.random.seed(42)\n",
        "    model_results = {}\n",
        "    \n",
        "    for i, model in models.items():\n",
        "        model.fit(X_train, y_train)\n",
        "        model_results[i] = model.score(X_test, y_test)\n",
        "    return model_results"
      ],
      "execution_count": null,
      "outputs": []
    },
    {
      "cell_type": "code",
      "metadata": {
        "colab": {
          "base_uri": "https://localhost:8080/"
        },
        "id": "aPD1dJyEA3io",
        "outputId": "ce6180d7-ac2c-48e9-f944-ce7002cc8bb3"
      },
      "source": [
        "model_results = finding_scores(models = models,\n",
        "                               X_train = X_train,\n",
        "                               X_test = X_test,\n",
        "                               y_train = y_train,\n",
        "                               y_test = y_test)\n",
        "model_results"
      ],
      "execution_count": null,
      "outputs": [
        {
          "output_type": "execute_result",
          "data": {
            "text/plain": [
              "{'DT': 0.9496543778801844, 'KNN': 0.8895161290322581, 'RF': 0.9626728110599079}"
            ]
          },
          "metadata": {},
          "execution_count": 38
        }
      ]
    },
    {
      "cell_type": "code",
      "metadata": {
        "id": "hkvRm32RA5f5"
      },
      "source": [
        "rfc = RandomForestClassifier()\n",
        "knn = KNeighborsClassifier()\n",
        "dt = DecisionTreeClassifier()"
      ],
      "execution_count": null,
      "outputs": []
    },
    {
      "cell_type": "code",
      "metadata": {
        "colab": {
          "base_uri": "https://localhost:8080/"
        },
        "id": "p4nNpBJLBDoF",
        "outputId": "0ca7ce53-8277-411a-dec7-58dcc72ada73"
      },
      "source": [
        "np.random.seed(42)\n",
        "for i, model in models.items():\n",
        "    if i == \"RF\":\n",
        "        rfc.fit(X_train, y_train)\n",
        "        y_pred = rfc.predict(X_test)\n",
        "        print(\"Random Forest:\")\n",
        "        print(\"Accuracy: \", accuracy_score(y_test, y_pred))\n",
        "        print(\"Recall: \", recall_score(y_test, y_pred, average=\"weighted\"))\n",
        "        print(\"Precision: \", precision_score(y_test, y_pred, average=\"weighted\"))\n",
        "        print(\"F1 Score: \", f1_score(y_test, y_pred, average=\"weighted\"))\n",
        "        print()\n",
        "    elif i == \"KNN\":\n",
        "        knn.fit(X_train, y_train)\n",
        "        y_pred = knn.predict(X_test)\n",
        "        print(\"KNN:\")\n",
        "        print(\"Accuracy: \", accuracy_score(y_test, y_pred))\n",
        "        print(\"Recall: \", recall_score(y_test, y_pred, average='weighted'))\n",
        "        print(\"Precision: \", precision_score(y_test, y_pred, average='weighted'))\n",
        "        print(\"F1 Score: \", f1_score(y_test, y_pred, average= 'weighted'))\n",
        "        print()\n",
        "    elif i == \"DT\":\n",
        "        dt.fit(X_train, y_train)\n",
        "        y_pred = dt.predict(X_test)\n",
        "        print(\"Decision Tree:\")\n",
        "        print(\"Accuracy: \", accuracy_score(y_test, y_pred))\n",
        "        print(\"Recall: \", recall_score(y_test, y_pred, average=\"weighted\"))\n",
        "        print(\"Precision: \", precision_score(y_test, y_pred, average=\"weighted\"))\n",
        "        print(\"F1 Score: \", f1_score(y_test, y_pred, average= 'weighted'))"
      ],
      "execution_count": null,
      "outputs": [
        {
          "output_type": "stream",
          "name": "stdout",
          "text": [
            "Random Forest:\n",
            "Accuracy:  0.9626728110599079\n",
            "Recall:  0.9626728110599079\n",
            "Precision:  0.9650238309552788\n",
            "F1 Score:  0.9638422828556222\n",
            "\n",
            "KNN:\n",
            "Accuracy:  0.8895161290322581\n",
            "Recall:  0.8895161290322581\n",
            "Precision:  0.9684852568082666\n",
            "F1 Score:  0.9254635819820145\n",
            "\n",
            "Decision Tree:\n",
            "Accuracy:  0.9496543778801844\n",
            "Recall:  0.9496543778801844\n",
            "Precision:  0.965583593479015\n",
            "F1 Score:  0.9573956688780504\n"
          ]
        }
      ]
    },
    {
      "cell_type": "code",
      "metadata": {
        "colab": {
          "base_uri": "https://localhost:8080/",
          "height": 301
        },
        "id": "Sc_vVtN0BGg-",
        "outputId": "b02e8638-e542-4b61-950b-cefa9f8c9670"
      },
      "source": [
        "#Comparinge the model accuracies\n",
        "model_compare = pd.DataFrame(model_results, index=[\"Accuracy\"])\n",
        "model_compare.T.plot(kind='bar', figsize=(6,4))\n",
        "plt.xlabel(\"Models\")\n",
        "plt.ylabel(\"Accuracy\")\n",
        "plt.xticks(rotation=0)\n",
        "plt.title(\"Model accuracies\")\n",
        "plt.show()"
      ],
      "execution_count": null,
      "outputs": [
        {
          "output_type": "display_data",
          "data": {
            "image/png": "[encoded data removed]",
            "text/plain": [
              "<Figure size 432x288 with 1 Axes>"
            ]
          },
          "metadata": {}
        }
      ]
    },
    {
      "cell_type": "code",
      "metadata": {
        "colab": {
          "base_uri": "https://localhost:8080/"
        },
        "id": "k4sXacpxBPDl",
        "outputId": "c5a263d2-a3f4-4583-f86c-0b8810d1ac89"
      },
      "source": [
        "#Getting AUC scores of models\n",
        "np.random.seed(42)\n",
        "for i, model in models.items():\n",
        "    if i == 'RF':\n",
        "        rf_prob = rfc.predict_proba(X_test)\n",
        "        rf_prob = rf_prob[:, 1]\n",
        "        rf_auc = roc_auc_score(y_test, rf_prob)\n",
        "        print(\"Random Forest ROC AUC: \", rf_auc)\n",
        "    elif i == 'KNN':\n",
        "        knn_prob = knn.predict_proba(X_test)\n",
        "        knn_prob = knn_prob[:, 1]\n",
        "        knn_auc = roc_auc_score(y_test, knn_prob)\n",
        "        print(\"KNN ROC AUC: \", knn_auc)\n",
        "    elif i == 'DT':\n",
        "        dt_prob = dt.predict_proba(X_test)\n",
        "        dt_prob = dt_prob[:, 1]\n",
        "        dt_auc = roc_auc_score(y_test, dt_prob)\n",
        "        print(\"Decision Tree ROC AUC: \", dt_auc)"
      ],
      "execution_count": null,
      "outputs": [
        {
          "output_type": "stream",
          "name": "stdout",
          "text": [
            "Random Forest ROC AUC:  0.793249142034721\n",
            "KNN ROC AUC:  0.6345654835118285\n",
            "Decision Tree ROC AUC:  0.535598176965045\n"
          ]
        }
      ]
    },
    {
      "cell_type": "code",
      "metadata": {
        "colab": {
          "base_uri": "https://localhost:8080/",
          "height": 502
        },
        "id": "TPtjkXP2BRsE",
        "outputId": "9ba659c2-765b-4de8-8daa-82dbb965735d"
      },
      "source": [
        "#Plotting the roc curve for Random Forest\n",
        "fpr, tpr, _ =  roc_curve(y_test, rf_prob)\n",
        "plt.plot(fpr, tpr, marker=\".\", label=\"Random Forest\")\n",
        "plt.xlabel(\"False Positive Rate\")\n",
        "plt.ylabel(\"True Positive Rate\")\n",
        "plt.legend()\n",
        "plt.show()"
      ],
      "execution_count": null,
      "outputs": [
        {
          "output_type": "display_data",
          "data": {
            "image/png": "[encoded data removed]",
            "text/plain": [
              "<Figure size 1080x576 with 1 Axes>"
            ]
          },
          "metadata": {}
        }
      ]
    },
    {
      "cell_type": "code",
      "metadata": {
        "colab": {
          "base_uri": "https://localhost:8080/",
          "height": 502
        },
        "id": "ecNX-3_fBV0h",
        "outputId": "a751d300-d729-4179-c8b0-86f759178cca"
      },
      "source": [
        "#Plotting the roc curve for KNN\n",
        "fpr, tpr, _ =  roc_curve(y_test, knn_prob)\n",
        "plt.plot(fpr, tpr, marker=\".\", label=\"KNN\")\n",
        "plt.xlabel(\"False Positive Rate\")\n",
        "plt.ylabel(\"True Positive Rate\")\n",
        "plt.legend()\n",
        "plt.show()"
      ],
      "execution_count": null,
      "outputs": [
        {
          "output_type": "display_data",
          "data": {
            "image/png": "[encoded data removed]",
            "text/plain": [
              "<Figure size 1080x576 with 1 Axes>"
            ]
          },
          "metadata": {}
        }
      ]
    },
    {
      "cell_type": "code",
      "metadata": {
        "colab": {
          "base_uri": "https://localhost:8080/",
          "height": 502
        },
        "id": "gaQkmukvBZEB",
        "outputId": "1a71a035-f85f-479f-8d66-af3ceecc14c8"
      },
      "source": [
        "#Plotting the roc curve for Decision Tree\n",
        "fpr, tpr, _ =  roc_curve(y_test, dt_prob)\n",
        "plt.plot(fpr, tpr, marker=\".\", label=\"Decision Tree\")\n",
        "plt.xlabel(\"False Positive Rate\")\n",
        "plt.ylabel(\"True Positive Rate\")\n",
        "plt.legend()\n",
        "plt.show()"
      ],
      "execution_count": null,
      "outputs": [
        {
          "output_type": "display_data",
          "data": {
            "image/png": "[encoded data removed]",
            "text/plain": [
              "<Figure size 1080x576 with 1 Axes>"
            ]
          },
          "metadata": {}
        }
      ]
    },
    {
      "cell_type": "code",
      "metadata": {
        "id": "bdtPDMK5Bb6a",
        "colab": {
          "base_uri": "https://localhost:8080/"
        },
        "outputId": "254c2a08-363f-40da-8465-d0f409574f63"
      },
      "source": [
        "# Using XGBoost model for our data\n",
        "xgb = XGBClassifier()\n",
        "xgb.fit(X_train, y_train)\n",
        "np.random.seed(42)\n",
        "\n",
        "y_pred = xgb.predict(X_test)\n",
        "print(\"Accuracy: \", accuracy_score(y_test, y_pred))\n",
        "print(\"Recall: \", recall_score(y_test, y_pred, average='weighted'))\n",
        "print(\"Precision: \", precision_score(y_test, y_pred, average='weighted'))\n",
        "print(\"F1 Score: \", f1_score(y_test, y_pred, average= 'weighted'))"
      ],
      "execution_count": null,
      "outputs": [
        {
          "output_type": "stream",
          "name": "stdout",
          "text": [
            "Accuracy:  0.8429723502304147\n",
            "Recall:  0.8429723502304147\n",
            "Precision:  0.9725374484846585\n",
            "F1 Score:  0.8989980211680736\n"
          ]
        }
      ]
    },
    {
      "cell_type": "code",
      "metadata": {
        "colab": {
          "base_uri": "https://localhost:8080/"
        },
        "id": "h-4mj2LudU7d",
        "outputId": "6e63a0c7-7eae-4952-f0ed-50a0066beca3"
      },
      "source": [
        "#Getting AUC score for XGBoost\n",
        "np.random.seed(42)\n",
        "\n",
        "xgb_prob = xgb.predict_proba(X_test)\n",
        "xgb_prob = xgb_prob[:, 1]\n",
        "xgb_auc = roc_auc_score(y_test, xgb_prob)\n",
        "print(\"XGBoost ROC AUC: \", xgb_auc)"
      ],
      "execution_count": null,
      "outputs": [
        {
          "output_type": "stream",
          "name": "stdout",
          "text": [
            "XGBoost ROC AUC:  0.8078449414133844\n"
          ]
        }
      ]
    },
    {
      "cell_type": "code",
      "metadata": {
        "colab": {
          "base_uri": "https://localhost:8080/",
          "height": 502
        },
        "id": "bdi46mBheQSH",
        "outputId": "be332cdd-c2e2-4813-9b28-5cff1a043a21"
      },
      "source": [
        "#Plotting roc curve for XGBoost\n",
        "fpr, tpr, _ =  roc_curve(y_test, xgb_prob)\n",
        "plt.plot(fpr, tpr, marker=\".\", label=\"XGBoost\")\n",
        "plt.xlabel(\"False Positive Rate\")\n",
        "plt.ylabel(\"True Positive Rate\")\n",
        "plt.legend()\n",
        "plt.show()"
      ],
      "execution_count": null,
      "outputs": [
        {
          "output_type": "display_data",
          "data": {
            "image/png": "[encoded data removed]",
            "text/plain": [
              "<Figure size 1080x576 with 1 Axes>"
            ]
          },
          "metadata": {}
        }
      ]
    },
    {
      "cell_type": "code",
      "metadata": {
        "id": "Oa_QfbFnesEf",
        "colab": {
          "base_uri": "https://localhost:8080/"
        },
        "outputId": "8fd87911-3aae-4faa-addd-aba8eb52c565"
      },
      "source": [
        "# Using Gradient Boosting Classifier\n",
        "gbc = GradientBoostingClassifier()\n",
        "gbc.fit(X_train, y_train)\n",
        "np.random.seed(42)\n",
        "\n",
        "y_pred = gbc.predict(X_test)\n",
        "print(\"Accuracy: \", accuracy_score(y_test, y_pred))\n",
        "print(\"Recall: \", recall_score(y_test, y_pred, average='weighted'))\n",
        "print(\"Precision: \", precision_score(y_test, y_pred, average='weighted'))\n",
        "print(\"F1 Score: \", f1_score(y_test, y_pred, average= 'weighted'))"
      ],
      "execution_count": null,
      "outputs": [
        {
          "output_type": "stream",
          "name": "stdout",
          "text": [
            "Accuracy:  0.853110599078341\n",
            "Recall:  0.853110599078341\n",
            "Precision:  0.972736801738624\n",
            "F1 Score:  0.9050193828271318\n"
          ]
        }
      ]
    },
    {
      "cell_type": "code",
      "metadata": {
        "colab": {
          "base_uri": "https://localhost:8080/"
        },
        "id": "AoK4h7F2zFsM",
        "outputId": "83a13ed3-7f2c-4317-a21f-abfc1aacf3f4"
      },
      "source": [
        "#Getting AUC score for GBC\n",
        "np.random.seed(42)\n",
        "\n",
        "gbc_prob = gbc.predict_proba(X_test)\n",
        "gbc_prob = gbc_prob[:, 1]\n",
        "gbc_auc = roc_auc_score(y_test, gbc_prob)\n",
        "print(\"GBC ROC AUC: \", gbc_auc)"
      ],
      "execution_count": null,
      "outputs": [
        {
          "output_type": "stream",
          "name": "stdout",
          "text": [
            "GBC ROC AUC:  0.8072492688976558\n"
          ]
        }
      ]
    },
    {
      "cell_type": "code",
      "metadata": {
        "colab": {
          "base_uri": "https://localhost:8080/",
          "height": 502
        },
        "id": "c5dNRGzrzege",
        "outputId": "b783f84e-31a3-4968-cc5b-f40ed87da2bc"
      },
      "source": [
        "fpr, tpr, _ =  roc_curve(y_test, gbc_prob)\n",
        "plt.plot(fpr, tpr, marker=\".\", label=\"GBC\")\n",
        "plt.xlabel(\"False Positive Rate\")\n",
        "plt.ylabel(\"True Positive Rate\")\n",
        "plt.legend()\n",
        "plt.show()"
      ],
      "execution_count": null,
      "outputs": [
        {
          "output_type": "display_data",
          "data": {
            "image/png": "[encoded data removed]",
            "text/plain": [
              "<Figure size 1080x576 with 1 Axes>"
            ]
          },
          "metadata": {}
        }
      ]
    },
    {
      "cell_type": "code",
      "source": [
        "#Hyper-parameter tuning for XGBoost model"
      ],
      "metadata": {
        "id": "nyb5e0NCILLx"
      },
      "execution_count": null,
      "outputs": []
    },
    {
      "cell_type": "code",
      "metadata": {
        "id": "ZTIYkOy9zpyh"
      },
      "source": [
        "#Making grid of parameters\n",
        "param_grid = {\n",
        "    \"max_depth\": [3, 4, 5, 7],\n",
        "    \"learning_rate\": [0.1, 0.01, 0.05],\n",
        "    \"gamma\": [0, 0.25, 1],\n",
        "    \"reg_lambda\": [0, 1, 10],\n",
        "    \"scale_pos_weight\": [1, 3, 5],\n",
        "    \"subsample\": [0.8],\n",
        "    \"colsample_bytree\": [0.5],\n",
        "}"
      ],
      "execution_count": null,
      "outputs": []
    },
    {
      "cell_type": "code",
      "metadata": {
        "colab": {
          "base_uri": "https://localhost:8080/"
        },
        "id": "MpCYRuz5En94",
        "outputId": "cd4e17aa-c873-4aca-d709-62274e80a15d"
      },
      "source": [
        "#Using GridSearch for hyperparameter tuning \n",
        "np.random.seed(42)\n",
        "\n",
        "xgb_2 = XGBClassifier()\n",
        "grid = GridSearchCV(xgb_2, param_grid, n_jobs=-1, cv=3, scoring=\"roc_auc\")\n",
        "grid.fit(X_train,y_train)"
      ],
      "execution_count": null,
      "outputs": [
        {
          "output_type": "execute_result",
          "data": {
            "text/plain": [
              "GridSearchCV(cv=3, estimator=XGBClassifier(), n_jobs=-1,\n",
              "             param_grid={'colsample_bytree': [0.5], 'gamma': [0, 0.25, 1],\n",
              "                         'learning_rate': [0.1, 0.01, 0.05],\n",
              "                         'max_depth': [3, 4, 5, 7], 'reg_lambda': [0, 1, 10],\n",
              "                         'scale_pos_weight': [1, 3, 5], 'subsample': [0.8]},\n",
              "             scoring='roc_auc')"
            ]
          },
          "metadata": {},
          "execution_count": 63
        }
      ]
    },
    {
      "cell_type": "code",
      "metadata": {
        "colab": {
          "base_uri": "https://localhost:8080/"
        },
        "id": "5qkTGfavHNw_",
        "outputId": "6915460a-d951-413b-b2ab-09ba17a639ce"
      },
      "source": [
        "np.random.seed(42)\n",
        "grid.score(X_test, y_test)"
      ],
      "execution_count": null,
      "outputs": [
        {
          "output_type": "execute_result",
          "data": {
            "text/plain": [
              "0.7881345242895128"
            ]
          },
          "metadata": {},
          "execution_count": 64
        }
      ]
    },
    {
      "cell_type": "code",
      "metadata": {
        "colab": {
          "base_uri": "https://localhost:8080/"
        },
        "id": "IuqNUlJUN3n5",
        "outputId": "b9884440-ee2a-4ed9-a5ad-8269c6b2f82c"
      },
      "source": [
        "grid.best_params_"
      ],
      "execution_count": null,
      "outputs": [
        {
          "output_type": "execute_result",
          "data": {
            "text/plain": [
              "{'colsample_bytree': 0.5,\n",
              " 'gamma': 0,\n",
              " 'learning_rate': 0.1,\n",
              " 'max_depth': 7,\n",
              " 'reg_lambda': 0,\n",
              " 'scale_pos_weight': 5,\n",
              " 'subsample': 0.8}"
            ]
          },
          "metadata": {},
          "execution_count": 65
        }
      ]
    },
    {
      "cell_type": "code",
      "metadata": {
        "id": "z9Wk8itEOtRt"
      },
      "source": [
        "#Modifying grid to different values \n",
        "param_grid[\"scale_pos_weight\"] = [3]\n",
        "param_grid[\"subsample\"] = [0.8]\n",
        "param_grid[\"colsample_bytree\"] = [0.5]\n",
        "\n",
        "param_grid[\"gamma\"] = [3, 5, 7]\n",
        "param_grid[\"max_depth\"] = [9 , 15, 20]\n",
        "param_grid[\"reg_lambda\"] = [10, 30, 50]\n",
        "param_grid[\"learning_rate\"] = [0.3, 0.5, 0.7, 1]"
      ],
      "execution_count": null,
      "outputs": []
    },
    {
      "cell_type": "code",
      "metadata": {
        "colab": {
          "base_uri": "https://localhost:8080/"
        },
        "id": "pLpgLv1vVLgu",
        "outputId": "10366f4b-8fd6-4dc3-efac-aa9d3d524b9b"
      },
      "source": [
        "#Using another GridSearch for modified grid\n",
        "np.random.seed(42)\n",
        "\n",
        "grid2 = GridSearchCV(xgb_2, param_grid, cv=3, scoring=\"roc_auc\", n_jobs=-1)\n",
        "grid2.fit(X_train,y_train) "
      ],
      "execution_count": null,
      "outputs": [
        {
          "output_type": "execute_result",
          "data": {
            "text/plain": [
              "GridSearchCV(cv=3, estimator=XGBClassifier(), n_jobs=-1,\n",
              "             param_grid={'colsample_bytree': [0.5], 'gamma': [3, 5, 7],\n",
              "                         'learning_rate': [0.3, 0.5, 0.7, 1],\n",
              "                         'max_depth': [9, 15, 20], 'reg_lambda': [10, 30, 50],\n",
              "                         'scale_pos_weight': [3], 'subsample': [0.8]},\n",
              "             scoring='roc_auc')"
            ]
          },
          "metadata": {},
          "execution_count": 68
        }
      ]
    },
    {
      "cell_type": "code",
      "metadata": {
        "colab": {
          "base_uri": "https://localhost:8080/"
        },
        "id": "W-7g5vNrVqet",
        "outputId": "3c6bdc97-2ba3-4b82-8ae5-368840751ced"
      },
      "source": [
        "grid2.score(X_test, y_test)"
      ],
      "execution_count": null,
      "outputs": [
        {
          "output_type": "execute_result",
          "data": {
            "text/plain": [
              "0.791279121058591"
            ]
          },
          "metadata": {},
          "execution_count": 69
        }
      ]
    },
    {
      "cell_type": "code",
      "metadata": {
        "colab": {
          "base_uri": "https://localhost:8080/"
        },
        "id": "dYd7vd6Ma4e1",
        "outputId": "b7b40679-abd9-4854-b110-2c8372e94561"
      },
      "source": [
        "grid2.best_params_"
      ],
      "execution_count": null,
      "outputs": [
        {
          "output_type": "execute_result",
          "data": {
            "text/plain": [
              "{'colsample_bytree': 0.5,\n",
              " 'gamma': 3,\n",
              " 'learning_rate': 0.3,\n",
              " 'max_depth': 15,\n",
              " 'reg_lambda': 10,\n",
              " 'scale_pos_weight': 3,\n",
              " 'subsample': 0.8}"
            ]
          },
          "metadata": {},
          "execution_count": 70
        }
      ]
    },
    {
      "cell_type": "code",
      "metadata": {
        "colab": {
          "base_uri": "https://localhost:8080/"
        },
        "id": "0r-CKD6iWFk3",
        "outputId": "c3747b01-85bb-4a20-c55f-13b761269953"
      },
      "source": [
        "#Using second GridSearch for final model\n",
        "np.random.seed(42)\n",
        "\n",
        "xgb3 = XGBClassifier( **grid2.best_params_)\n",
        "xgb3.fit(X_train, y_train)\n",
        "np.random.seed(42)\n",
        "\n",
        "pred = xgb3.predict(X_test)\n",
        "print(\"Accuracy: \" , accuracy_score(y_test, pred))\n",
        "print(\"Recall: \" , recall_score(y_test, pred, average=\"weighted\"))\n",
        "print(\"Precision: \" , precision_score(y_test, pred, average=\"weighted\"))\n",
        "print(\"F1 Score: \" , f1_score(y_test, pred, average=\"weighted\"))"
      ],
      "execution_count": null,
      "outputs": [
        {
          "output_type": "stream",
          "name": "stdout",
          "text": [
            "Accuracy:  0.9716589861751153\n",
            "Recall:  0.9716589861751153\n",
            "Precision:  0.9659354211730776\n",
            "F1 Score:  0.9687221441890371\n"
          ]
        }
      ]
    },
    {
      "cell_type": "code",
      "source": [
        "#Saving model to file\n",
        "from joblib import dump, load\n",
        "\n",
        "dump(xgb3, filename=\"ml-project.joblib\")"
      ],
      "metadata": {
        "colab": {
          "base_uri": "https://localhost:8080/"
        },
        "id": "tJdiHmswjcgs",
        "outputId": "e8cb3184-1985-4b6b-c83a-631ca144d5b8"
      },
      "execution_count": null,
      "outputs": [
        {
          "output_type": "execute_result",
          "data": {
            "text/plain": [
              "['ml-project.joblib']"
            ]
          },
          "metadata": {},
          "execution_count": 88
        }
      ]
    },
    {
      "cell_type": "code",
      "source": [
        ""
      ],
      "metadata": {
        "id": "auDP-D8Rjxk5"
      },
      "execution_count": null,
      "outputs": []
    }
  ]
}